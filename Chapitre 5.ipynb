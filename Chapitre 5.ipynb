{
 "cells": [
  {
   "cell_type": "code",
   "execution_count": 0,
   "metadata": {
    "application/vnd.databricks.v1+cell": {
     "cellMetadata": {
      "byteLimit": 2048000,
      "implicitDf": true,
      "rowLimit": 10000
     },
     "inputWidgets": {},
     "nuid": "ede6aa94-86bf-4f37-82b9-d53307ab6c48",
     "showTitle": false,
     "tableResultSettingsMap": {},
     "title": ""
    }
   },
   "outputs": [],
   "source": [
    "CREATE OR REFRESH STREAMING TABLE movies_bronze\n",
    "COMMENT \"Cette table est une table bronze connecté au dossier csv des films pokemons\"\n",
    "AS(\n",
    "  SELECT `Unnamed: 0` as row_id, imdbID, Title, Year, Type\n",
    "  FROM cloud_files('gs://de-01-data-ingestion/csv/', 'csv', \n",
    "    map(\n",
    "      \"cloudFiles.inferColumnTypes\", \"true\",\n",
    "      'header', 'true',\n",
    "      'delimiter', ',',        \n",
    "      'quote', '\"',            \n",
    "      'escape', '\"',\n",
    "      'multiLine', 'false',\n",
    "      \"cloudFiles.schemaLocation\", \"gs://de-01-data-ingestion/csv/schema/movies_schema\"\n",
    "    )\n",
    "  )\n",
    ")"
   ]
  },
  {
   "cell_type": "code",
   "execution_count": 0,
   "metadata": {
    "application/vnd.databricks.v1+cell": {
     "cellMetadata": {
      "byteLimit": 2048000,
      "implicitDf": true,
      "rowLimit": 10000
     },
     "inputWidgets": {},
     "nuid": "8ca4b812-df32-45a4-9c0d-3435835df09a",
     "showTitle": false,
     "tableResultSettingsMap": {},
     "title": ""
    }
   },
   "outputs": [],
   "source": [
    "CREATE OR REFRESH STREAMING TABLE movies_silver(\n",
    "CONSTRAINT year_not_null EXPECT (Year IS NOT NULL) ON VIOLATION DROP ROW,\n",
    "CONSTRAINT Title_not_null EXPECT (Title IS NOT NULL) ON VIOLATION DROP ROW\n",
    ")\n",
    "COMMENT \"Cette table est une table silver connecté à la table bronze movies_bronze\"\n",
    "AS(\n",
    "  SELECT *\n",
    "  FROM STREAM(LIVE.movies_bronze)\n",
    ")"
   ]
  },
  {
   "cell_type": "code",
   "execution_count": 0,
   "metadata": {
    "application/vnd.databricks.v1+cell": {
     "cellMetadata": {
      "byteLimit": 2048000,
      "implicitDf": true,
      "rowLimit": 10000
     },
     "inputWidgets": {},
     "nuid": "90cee069-fe6c-4b49-8ca9-a4e6e2189431",
     "showTitle": false,
     "tableResultSettingsMap": {},
     "title": ""
    }
   },
   "outputs": [],
   "source": [
    "CREATE OR REPLACE MATERIALIZED VIEW movies_by_year_gold \n",
    "COMMENT \"Cette table est une table gold connecté à la table silver movies_silver et affiche le nombre total de films par année\"\n",
    "AS\n",
    "SELECT Year, COUNT(*) AS Total\n",
    "FROM LIVE.movies_silver\n",
    "GROUP BY Year"
   ]
  },
  {
   "cell_type": "code",
   "execution_count": 0,
   "metadata": {
    "application/vnd.databricks.v1+cell": {
     "cellMetadata": {},
     "inputWidgets": {},
     "nuid": "54f2c49d-dda0-440f-ba04-bd967c42d99a",
     "showTitle": false,
     "tableResultSettingsMap": {},
     "title": ""
    }
   },
   "outputs": [],
   "source": [
    "CREATE OR REPLACE MATERIALIZED VIEW movies_by_type_gold \n",
    "COMMENT \"Cette table est une table gold connecté à la table silver movies_silver et affiche le nombre total de films par Type\"\n",
    "AS\n",
    "SELECT Type, COUNT(*) AS Total\n",
    "FROM LIVE.movies_silver\n",
    "GROUP BY Type"
   ]
  }
 ],
 "metadata": {
  "application/vnd.databricks.v1+notebook": {
   "computePreferences": null,
   "dashboards": [],
   "environmentMetadata": {
    "base_environment": "",
    "environment_version": "3"
   },
   "inputWidgetPreferences": null,
   "language": "sql",
   "notebookMetadata": {
    "mostRecentlyExecutedCommandWithImplicitDF": {
     "commandId": -1,
     "dataframes": [
      "_sqldf"
     ]
    },
    "pythonIndentUnit": 4
   },
   "notebookName": "Chapitre 5",
   "widgets": {}
  },
  "language_info": {
   "name": "sql"
  }
 },
 "nbformat": 4,
 "nbformat_minor": 0
}
