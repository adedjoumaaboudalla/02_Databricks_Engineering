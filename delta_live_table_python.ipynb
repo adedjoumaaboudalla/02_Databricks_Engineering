{
 "cells": [
  {
   "cell_type": "code",
   "execution_count": 0,
   "metadata": {
    "application/vnd.databricks.v1+cell": {
     "cellMetadata": {
      "byteLimit": 2048000,
      "rowLimit": 10000
     },
     "inputWidgets": {},
     "nuid": "bf20c05a-8fd4-4210-912e-8bea6d647f03",
     "showTitle": false,
     "tableResultSettingsMap": {},
     "title": ""
    }
   },
   "outputs": [],
   "source": [
    "import dlt\n",
    "from pyspark.sql.types import StructType, StructField, StringType, IntegerType\n",
    "from pyspark.sql.functions import col, count\n",
    "\n",
    "# Définir le schéma\n",
    "schema = StructType([\n",
    "    StructField(\"Unnamed: 0\", StringType(), True),\n",
    "    StructField(\"Title\", StringType(), True),\n",
    "    StructField(\"Year\", IntegerType(), True),\n",
    "    StructField(\"imdbID\", StringType(), True),\n",
    "    StructField(\"Type\", StringType(), True),\n",
    "    StructField(\"Poster\", StringType(), True),\n",
    "])\n",
    "\n",
    "@dlt.table(\n",
    "    comment=\"Table bronze des films pokemon\"\n",
    ")\n",
    "def movies_bronze():\n",
    "    # Lecture en streaming\n",
    "    movies_bronze = (spark.readStream\n",
    "        .format(\"csv\")\n",
    "        .option(\"header\", \"true\")\n",
    "        .schema(schema) \n",
    "        .load(\"gs://de-01-data-ingestion/csv/\")\n",
    "    )\n",
    "    movies_bronze = movies_bronze.withColumnRenamed(\"Unnamed: 0\", \"row_id\")\n",
    "    return movies_bronze"
   ]
  },
  {
   "cell_type": "code",
   "execution_count": 0,
   "metadata": {
    "application/vnd.databricks.v1+cell": {
     "cellMetadata": {
      "byteLimit": 2048000,
      "rowLimit": 10000
     },
     "inputWidgets": {},
     "nuid": "99d55a52-0603-4d37-844d-12e2944b6a5c",
     "showTitle": false,
     "tableResultSettingsMap": {},
     "title": ""
    }
   },
   "outputs": [],
   "source": [
    "@dlt.view(\n",
    "    comment=\"Table silver des films pokemon après nettoyage\"\n",
    ")\n",
    "@dlt.expect_or_drop(\"Valid_Year\", \"Year IS NOT NULL\")\n",
    "@dlt.expect_or_drop(\"Valid_Title\", \"Title IS NOT NULL\")\n",
    "def movies_silver():\n",
    "    movies_silver = dlt.read_stream(\"movies_bronze\")\n",
    "    return movies_silver.dropDuplicates()\n"
   ]
  },
  {
   "cell_type": "code",
   "execution_count": 0,
   "metadata": {
    "application/vnd.databricks.v1+cell": {
     "cellMetadata": {},
     "inputWidgets": {},
     "nuid": "e4f4b332-4a39-4d55-8665-f9c804e58f96",
     "showTitle": false,
     "tableResultSettingsMap": {},
     "title": ""
    }
   },
   "outputs": [],
   "source": [
    "@dlt.table(\n",
    "    comment=\"Table gold des films pokemon par année\"\n",
    ")\n",
    "def movies_by_year_gold():\n",
    "    movies_by_year_gold = dlt.read_stream(\"movies_silver\")\n",
    "    movies_by_year_gold = movies_by_year_gold.groupBy(\"Year\").agg(count(\"*\").alias(\"Total\"))\n",
    "    return movies_by_year_gold"
   ]
  }
 ],
 "metadata": {
  "application/vnd.databricks.v1+notebook": {
   "computePreferences": null,
   "dashboards": [],
   "environmentMetadata": {
    "base_environment": "",
    "environment_version": "3"
   },
   "inputWidgetPreferences": null,
   "language": "python",
   "notebookMetadata": {
    "pythonIndentUnit": 4
   },
   "notebookName": "delta_live_table_python",
   "widgets": {}
  },
  "language_info": {
   "name": "python"
  }
 },
 "nbformat": 4,
 "nbformat_minor": 0
}
